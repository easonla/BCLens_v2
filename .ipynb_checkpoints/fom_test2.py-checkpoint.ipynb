{
 "cells": [
  {
   "cell_type": "code",
   "execution_count": 1,
   "metadata": {
    "collapsed": false
   },
   "outputs": [
    {
     "name": "stderr",
     "output_type": "stream",
     "text": [
      "/Users/yhhsu/Anaconda/anaconda/envs/sim3/lib/python2.7/site-packages/matplotlib/cbook.py:133: MatplotlibDeprecationWarning: The matplotlib.delaunay module was deprecated in version 1.4. Use matplotlib.tri.Triangulation instead.\n",
      "  warnings.warn(message, mplDeprecation, stacklevel=1)\n",
      "/Users/yhhsu/Anaconda/anaconda/envs/sim3/lib/python2.7/site-packages/IPython/kernel/__init__.py:13: ShimWarning: The `IPython.kernel` package has been deprecated. You should import from ipykernel or jupyter_client instead.\n",
      "  \"You should import from ipykernel or jupyter_client instead.\", ShimWarning)\n"
     ]
    }
   ],
   "source": [
    "import matplotlib.pyplot as plt\n",
    "%matplotlib inline\n",
    "from func.MonteCarloFom import pickleread\n",
    "from func.fom_optimize import findbestshift\n",
    "from func.MonteCarloFom_Origin import SetAlign\n",
    "from func.Classes import Array2d\n",
    "from func.GravLens import Lens, get_shear, get_galaxies\n",
    "(dataA,sigmaA,maskA,maskANull,dataB1,sigmaB1,dataB2,sigmaB2,dataB3,sigmaB3,dataC,sigmaC,dataD,sigmaD,maskD,maskDNull,dataE,sigmaE,sumsim,xraysim1,xraysim2,xraysim3,szsim)=pickleread()\n",
    "theta =  1.08 \n",
    "psi = 3.03 \n",
    "phi = 0\n",
    "Mask = (1,1,0,0,0)\n",
    "ConstrainPhi = False\n",
    "MaxShift = 0\n",
    "tol=1.0E-7 \n",
    "data1list=list((sumsim,xraysim1))\n",
    "data2list=list((dataA,dataB1))\n",
    "sigmalist=list((sigmaA,sigmaB1))\n",
    "if Mask[1] == 1:\n",
    "    masklist=list((maskA,maskA))\n",
    "else:\n",
    "    masklist=list((maskA,maskANull))\n",
    "\n",
    "numarrays = len(data1list)\n",
    "shifteddata1list=list()\n",
    "for i in range(numarrays):\n",
    "    shifteddata1list.append(Array2d(data2list[i].xmin,data2list[i].xmax,data2list[i].nx,data2list[i].ymin,data2list[i].ymax,data2list[i].ny))\n",
    "\n",
    "align = SetAlign(dataB1, phi, theta, psi, ConstrainPhi=ConstrainPhi, MaxShift=MaxShift)\n",
    "shear = get_shear()\n",
    "galaxies = get_galaxies()\n",
    "lens = Lens(sumsim)\n",
    "\n",
    "\n",
    "\n",
    "\n",
    "# (func,f_eval,accept_rate) =findbestshift(data1list, data2list, shifteddata1list,sigmalist, masklist, align, tol)\n",
    "# phi = func.align.d[4] \n",
    "# fom = func.images_align.fom[0]\n",
    "# xfom = func.images_align.fom[1]\n",
    "\n",
    "# print (fom, xfom, phi)\n",
    "# print f_eval\n",
    "# print accept_rate"
   ]
  },
  {
   "cell_type": "code",
   "execution_count": 15,
   "metadata": {
    "collapsed": true
   },
   "outputs": [],
   "source": [
    "def chi_strong(x0,Lens,galaxies):\n",
    "    sigma = 0.6\n",
    "    chi = 0\n",
    "    dx,dy,phi = x0[0]/4.413,x0[1]/4.413,x0[2]\n",
    "    for key in galaxies:\n",
    "        gal = galaxies[key]\n",
    "        gal.clean()\n",
    "        gal.update_image(dx,dy,phi) \n",
    "        for i in range(gal.n):\n",
    "            xh = gal.xc[i]\n",
    "            yh = gal.yc[i]\n",
    "            zf = gal.zf[i]\n",
    "            xi,yi = ray_trace(xh,yh,zf,Lens.alphaX,Lens.alphaY)\n",
    "            print key\n",
    "            print xh,yh,xi,yi\n",
    "            Mi = BiLnrIntrp(xi,yi,Lens.mag)\n",
    "            gal.add_source(xi,yi)\n",
    "            gal.add_mag(Mi)\n",
    "        chi += sum(gal.update_chi(sigma))/gal.n\n",
    "    return chi\n",
    "\n",
    "def BiLnrIntrp(x,y,data):\n",
    "    #Bilinear Interpolation \n",
    "    i = find_index(x,data.x/4.413)\n",
    "    j = find_index(y,data.y/4.413)\n",
    "    print i,j\n",
    "    x1 = data.x[i]/4.413\n",
    "    x2 = data.x[i+1]/4.413\n",
    "    y1 = data.y[j]/4.413\n",
    "    y2 = data.y[j+1]/4.413\n",
    "    f11 = data.data[i,j]\n",
    "    f12 = data.data[i,j+1]\n",
    "    f21 = data.data[i+1,j]\n",
    "    f22 = data.data[i+1,j+1]\n",
    "    f = (f11*(x2-x)*(y2-y)+f21*(x-x1)*(y2-y)+f12*(x2-x)*(y-y1)+f22*(x-x1)*(y-y1))/((x2-x1)*(y2-y1))\n",
    "    return f\n",
    "\n",
    "def find_index(x,a):\n",
    "    lo = 0\n",
    "    hi = len(a)\n",
    "    while lo<hi:\n",
    "        mid = (lo+hi)//2\n",
    "        if a[mid]<x:lo=mid+1\n",
    "        else: hi=mid\n",
    "    return lo\n",
    "\n",
    "def ray_trace(x,y,zf,alpha_x,alpha_y):\n",
    "    ax = BiLnrIntrp(x,y,alpha_x)\n",
    "    ay = BiLnrIntrp(x,y,alpha_y)\n",
    "    x0 = x + zf*ax\n",
    "    y0 = y + zf*ay\n",
    "    return x0,y0"
   ]
  },
  {
   "cell_type": "code",
   "execution_count": 16,
   "metadata": {
    "collapsed": false
   },
   "outputs": [
    {
     "name": "stdout",
     "output_type": "stream",
     "text": [
      "124 127\n",
      "124 127\n",
      "A\n",
      "48.9159603378 59.3503713482 12.5277601136 -1260.13617934\n",
      "114 0\n",
      "126 124\n",
      "126 124\n",
      "A\n",
      "55.9482994277 51.037064937 -138.166281366 -1688.88212269\n",
      "71 0\n",
      "121 126\n",
      "121 126\n",
      "C\n",
      "39.7544944019 57.2527625756 54.3284432789 -1275.3851008\n",
      "125 0\n",
      "124 123\n",
      "124 123\n",
      "C\n",
      "49.1725902545 45.2013461539 37.6717729632 -1884.88649905\n",
      "121 0\n",
      "126 126\n",
      "126 126\n",
      "B\n",
      "56.2853499333 58.0967417224 -132.042219346 -1415.65531059\n",
      "73 0\n",
      "125 127\n",
      "125 127\n",
      "B\n",
      "54.4475002535 59.3394428036 -86.8834868152 -1309.12840703\n",
      "86 0\n",
      "120 116\n",
      "120 116\n",
      "E\n",
      "36.8468873648 21.064266339 -284.956657628 -3515.56494145\n",
      "30 0\n",
      "119 119\n",
      "119 119\n",
      "E\n",
      "31.7899231999 31.8680428858 331.110166476 -2347.18357809\n",
      "203 0\n",
      "116 124\n",
      "116 124\n",
      "D\n",
      "21.255305226 50.1201253481 831.306200385 -1581.45877485\n",
      "220 0\n"
     ]
    },
    {
     "ename": "IndexError",
     "evalue": "index out of bounds",
     "output_type": "error",
     "traceback": [
      "\u001b[0;31m---------------------------------------------------------------------------\u001b[0m",
      "\u001b[0;31mIndexError\u001b[0m                                Traceback (most recent call last)",
      "\u001b[0;32m<ipython-input-16-30fe9eb0877d>\u001b[0m in \u001b[0;36m<module>\u001b[0;34m()\u001b[0m\n\u001b[0;32m----> 1\u001b[0;31m \u001b[0mchi_strong\u001b[0m\u001b[0;34m(\u001b[0m\u001b[0mx0\u001b[0m\u001b[0;34m,\u001b[0m\u001b[0mlens\u001b[0m\u001b[0;34m,\u001b[0m\u001b[0mgalaxies\u001b[0m\u001b[0;34m)\u001b[0m\u001b[0;34m\u001b[0m\u001b[0m\n\u001b[0m",
      "\u001b[0;32m<ipython-input-15-97496cce0f22>\u001b[0m in \u001b[0;36mchi_strong\u001b[0;34m(x0, Lens, galaxies)\u001b[0m\n\u001b[1;32m     14\u001b[0m             \u001b[0;32mprint\u001b[0m \u001b[0mkey\u001b[0m\u001b[0;34m\u001b[0m\u001b[0m\n\u001b[1;32m     15\u001b[0m             \u001b[0;32mprint\u001b[0m \u001b[0mxh\u001b[0m\u001b[0;34m,\u001b[0m\u001b[0myh\u001b[0m\u001b[0;34m,\u001b[0m\u001b[0mxi\u001b[0m\u001b[0;34m,\u001b[0m\u001b[0myi\u001b[0m\u001b[0;34m\u001b[0m\u001b[0m\n\u001b[0;32m---> 16\u001b[0;31m             \u001b[0mMi\u001b[0m \u001b[0;34m=\u001b[0m \u001b[0mBiLnrIntrp\u001b[0m\u001b[0;34m(\u001b[0m\u001b[0mxi\u001b[0m\u001b[0;34m,\u001b[0m\u001b[0myi\u001b[0m\u001b[0;34m,\u001b[0m\u001b[0mLens\u001b[0m\u001b[0;34m.\u001b[0m\u001b[0mmag\u001b[0m\u001b[0;34m)\u001b[0m\u001b[0;34m\u001b[0m\u001b[0m\n\u001b[0m\u001b[1;32m     17\u001b[0m             \u001b[0mgal\u001b[0m\u001b[0;34m.\u001b[0m\u001b[0madd_source\u001b[0m\u001b[0;34m(\u001b[0m\u001b[0mxi\u001b[0m\u001b[0;34m,\u001b[0m\u001b[0myi\u001b[0m\u001b[0;34m)\u001b[0m\u001b[0;34m\u001b[0m\u001b[0m\n\u001b[1;32m     18\u001b[0m             \u001b[0mgal\u001b[0m\u001b[0;34m.\u001b[0m\u001b[0madd_mag\u001b[0m\u001b[0;34m(\u001b[0m\u001b[0mMi\u001b[0m\u001b[0;34m)\u001b[0m\u001b[0;34m\u001b[0m\u001b[0m\n",
      "\u001b[0;32m<ipython-input-15-97496cce0f22>\u001b[0m in \u001b[0;36mBiLnrIntrp\u001b[0;34m(x, y, data)\u001b[0m\n\u001b[1;32m     25\u001b[0m     \u001b[0mj\u001b[0m \u001b[0;34m=\u001b[0m \u001b[0mfind_index\u001b[0m\u001b[0;34m(\u001b[0m\u001b[0my\u001b[0m\u001b[0;34m,\u001b[0m\u001b[0mdata\u001b[0m\u001b[0;34m.\u001b[0m\u001b[0my\u001b[0m\u001b[0;34m/\u001b[0m\u001b[0;36m4.413\u001b[0m\u001b[0;34m)\u001b[0m\u001b[0;34m\u001b[0m\u001b[0m\n\u001b[1;32m     26\u001b[0m     \u001b[0;32mprint\u001b[0m \u001b[0mi\u001b[0m\u001b[0;34m,\u001b[0m\u001b[0mj\u001b[0m\u001b[0;34m\u001b[0m\u001b[0m\n\u001b[0;32m---> 27\u001b[0;31m     \u001b[0mx1\u001b[0m \u001b[0;34m=\u001b[0m \u001b[0mdata\u001b[0m\u001b[0;34m.\u001b[0m\u001b[0mx\u001b[0m\u001b[0;34m[\u001b[0m\u001b[0mi\u001b[0m\u001b[0;34m]\u001b[0m\u001b[0;34m/\u001b[0m\u001b[0;36m4.413\u001b[0m\u001b[0;34m\u001b[0m\u001b[0m\n\u001b[0m\u001b[1;32m     28\u001b[0m     \u001b[0mx2\u001b[0m \u001b[0;34m=\u001b[0m \u001b[0mdata\u001b[0m\u001b[0;34m.\u001b[0m\u001b[0mx\u001b[0m\u001b[0;34m[\u001b[0m\u001b[0mi\u001b[0m\u001b[0;34m+\u001b[0m\u001b[0;36m1\u001b[0m\u001b[0;34m]\u001b[0m\u001b[0;34m/\u001b[0m\u001b[0;36m4.413\u001b[0m\u001b[0;34m\u001b[0m\u001b[0m\n\u001b[1;32m     29\u001b[0m     \u001b[0my1\u001b[0m \u001b[0;34m=\u001b[0m \u001b[0mdata\u001b[0m\u001b[0;34m.\u001b[0m\u001b[0my\u001b[0m\u001b[0;34m[\u001b[0m\u001b[0mj\u001b[0m\u001b[0;34m]\u001b[0m\u001b[0;34m/\u001b[0m\u001b[0;36m4.413\u001b[0m\u001b[0;34m\u001b[0m\u001b[0m\n",
      "\u001b[0;31mIndexError\u001b[0m: index out of bounds"
     ]
    }
   ],
   "source": [
    "chi_strong(x0,lens,galaxies)"
   ]
  },
  {
   "cell_type": "code",
   "execution_count": null,
   "metadata": {
    "collapsed": true
   },
   "outputs": [],
   "source": []
  }
 ],
 "metadata": {
  "anaconda-cloud": {},
  "kernelspec": {
   "display_name": "Python [conda env:sim3]",
   "language": "python",
   "name": "conda-env-sim3-py"
  },
  "language_info": {
   "codemirror_mode": {
    "name": "ipython",
    "version": 2
   },
   "file_extension": ".py",
   "mimetype": "text/x-python",
   "name": "python",
   "nbconvert_exporter": "python",
   "pygments_lexer": "ipython2",
   "version": "2.7.12"
  }
 },
 "nbformat": 4,
 "nbformat_minor": 1
}
